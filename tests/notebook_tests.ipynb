{
 "cells": [
  {
   "cell_type": "code",
   "execution_count": 2,
   "metadata": {},
   "outputs": [],
   "source": [
    "import ijson\n",
    "from decimal import Decimal\n",
    "import json\n",
    "import pandas as pd"
   ]
  },
  {
   "cell_type": "code",
   "execution_count": 1,
   "metadata": {},
   "outputs": [],
   "source": [
    "path_local = 'C:\\\\Users\\\\denis.iglesias\\\\OneDrive - HESSO\\\\03 Master\\\\01 Cours\\\\12 TSM-AdvDaBa\\\\02 Labo\\\\03 Labo 2.2 neo4j large database\\\\'\n",
    "input_file_path = path_local + 'temp_file.json'\n",
    "output_file_path = path_local + 'output_newline_delimited_json.json'\n",
    "path_parquet = path_local + 'output_parquet.parquet'"
   ]
  },
  {
   "cell_type": "code",
   "execution_count": null,
   "metadata": {},
   "outputs": [],
   "source": [
    "def extract_required_data(item):\n",
    "    return {\n",
    "        '_id': item.get('_id', None),\n",
    "        'title': item.get('title', None),\n",
    "        'authors': item.get('authors', []),\n",
    "        'references': item.get('references', [])\n",
    "    }\n",
    "\n",
    "def convert_decimal(obj):\n",
    "    if isinstance(obj, Decimal):\n",
    "        return float(obj)\n",
    "    return obj\n",
    "\n",
    "with open(input_file_path, 'rb') as input_file, open(output_file_path, 'w', encoding='utf-8') as output_file:\n",
    "    for item in ijson.items(input_file, 'item'):\n",
    "        formatted_item = extract_required_data(item)\n",
    "        json.dump({k: convert_decimal(v) for k, v in formatted_item.items()}, output_file)\n",
    "        output_file.write('\\n')"
   ]
  },
  {
   "cell_type": "code",
   "execution_count": 5,
   "metadata": {},
   "outputs": [],
   "source": [
    "df = pd.read_json(output_file_path, lines=True)\n",
    "\n",
    "def modify_authors(authors):\n",
    "    if not authors:  # Check if authors list is empty\n",
    "        return None\n",
    "    authors_list = [{'_id': author.get('_id', None), 'name': author.get('name', None)} \n",
    "                    for author in authors if 'name' in author and '_id' in author]\n",
    "    return authors_list if authors_list else None\n",
    "\n",
    "def modify_references(references):\n",
    "    return references if references else None\n",
    "\n",
    "# Modify authors and references columns\n",
    "df['authors'] = df['authors'].apply(modify_authors)\n",
    "df['references'] = df['references'].apply(modify_references)\n",
    "\n",
    "df.to_parquet(path_parquet, engine='pyarrow', compression='snappy')"
   ]
  },
  {
   "cell_type": "code",
   "execution_count": 21,
   "metadata": {},
   "outputs": [],
   "source": [
    "# Reading the file into a LazyFrame\n",
    "df = pd.read_parquet(path_parquet, engine='pyarrow')"
   ]
  },
  {
   "cell_type": "code",
   "execution_count": 4,
   "metadata": {},
   "outputs": [
    {
     "name": "stdout",
     "output_type": "stream",
     "text": [
      "Number of unique _id :  5069313\n",
      "Number of duplicate _id :  0\n",
      "Number of duplicate title :  40755\n"
     ]
    }
   ],
   "source": [
    "print('Number of unique _id : ', df['_id'].nunique())\n",
    "print('Number of duplicate _id : ', df.duplicated(subset=['_id']).sum())\n",
    "print('Number of duplicate title : ', df.duplicated(subset=['title']).sum())"
   ]
  }
 ],
 "metadata": {
  "kernelspec": {
   "display_name": "myenv2",
   "language": "python",
   "name": "python3"
  },
  "language_info": {
   "codemirror_mode": {
    "name": "ipython",
    "version": 3
   },
   "file_extension": ".py",
   "mimetype": "text/x-python",
   "name": "python",
   "nbconvert_exporter": "python",
   "pygments_lexer": "ipython3",
   "version": "3.10.0"
  }
 },
 "nbformat": 4,
 "nbformat_minor": 2
}
